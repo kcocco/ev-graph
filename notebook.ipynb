```python
# Importing necessary libraries
import pandas as pd
from py2neo import Graph, Node, Relationship

# Establishing connection to the graph database
graph = Graph("bolt://localhost:7687", auth=("neo4j", "password"))

# Defining the EV Model
class EV:
    def __init__(self, name, range, list_price, battery_size):
        self.name = name
        self.range = range
        self.list_price = list_price
        self.battery_size = battery_size

# Creating example data
ev1 = EV("Tesla Model 3", 263, 39990, 54)
ev2 = EV("Nissan Leaf", 149, 31600, 40)
ev3 = EV("Chevy Bolt", 259, 36700, 66)

evs = [ev1, ev2, ev3]

# Storing the data in the graph database
for ev in evs:
    node = Node("ElectricVehicle", name=ev.name, range=ev.range, list_price=ev.list_price, battery_size=ev.battery_size)
    graph.create(node)

# Defining the query function
def run_query(query):
    return graph.run(query).data()

# Running a query
query = "MATCH (ev:ElectricVehicle) RETURN ev"
result = run_query(query)

# Defining the print function
def print_result(result):
    df = pd.DataFrame(result)
    print(df)

# Printing the result
print_result(result)
```